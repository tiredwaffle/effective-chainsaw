{
 "cells": [
  {
   "cell_type": "markdown",
   "id": "fleet-massachusetts",
   "metadata": {},
   "source": [
    "Step by step visualisation of everything"
   ]
  },
  {
   "cell_type": "code",
   "execution_count": 3,
   "id": "cooked-berry",
   "metadata": {},
   "outputs": [],
   "source": [
    "import numpy as np\n",
    "import pandas as pd\n",
    "import datetime as dt"
   ]
  },
  {
   "cell_type": "code",
   "execution_count": 1,
   "id": "grave-husband",
   "metadata": {},
   "outputs": [],
   "source": [
    "from helpers.util import connect\n",
    "con, cur = connect('vertica')\n",
    "\n",
    "from helpers.vertica import create_cases, add_aggr_nvl, check_tree_for_instance, check_tree_for_replace_dividers"
   ]
  },
  {
   "cell_type": "code",
   "execution_count": 4,
   "id": "fiscal-conference",
   "metadata": {},
   "outputs": [],
   "source": [
    "formulas = pd.read_sql('''select KPI_SHORT, VENDOR, FORMULA_NUM_DENOM, DATE_START from VERTICA_STAT.FORMULA where KPI_SHORT in ('UE_THROUGHPUT_DL', 'UE_THROUGHPUT_UL') ''', con, parse_dates=['DATE_START'])\n",
    "num_den = pd.read_sql('''select upper(NUM_DEN) NUM_DEN, VENDOR, FORMULA, DATE_START, AG, STANDART from VERTICA_STAT.NUM_DENOM where NUM_DEN in ('NUE_THROUGHPUT_DL_KBIT', 'NUE_THROUGHPUT_UL_KBIT', 'dUE_Throughput_DL', 'dUE_Throughput_UL') and vendor = 'N' ''', con, parse_dates=['DATE_START']) "
   ]
  },
  {
   "cell_type": "code",
   "execution_count": 5,
   "id": "hourly-dietary",
   "metadata": {},
   "outputs": [
    {
     "data": {
      "text/html": [
       "<div>\n",
       "<style scoped>\n",
       "    .dataframe tbody tr th:only-of-type {\n",
       "        vertical-align: middle;\n",
       "    }\n",
       "\n",
       "    .dataframe tbody tr th {\n",
       "        vertical-align: top;\n",
       "    }\n",
       "\n",
       "    .dataframe thead th {\n",
       "        text-align: right;\n",
       "    }\n",
       "</style>\n",
       "<table border=\"1\" class=\"dataframe\">\n",
       "  <thead>\n",
       "    <tr style=\"text-align: right;\">\n",
       "      <th></th>\n",
       "      <th>KPI_SHORT</th>\n",
       "      <th>VENDOR</th>\n",
       "      <th>FORMULA_NUM_DENOM</th>\n",
       "      <th>DATE_START</th>\n",
       "    </tr>\n",
       "  </thead>\n",
       "  <tbody>\n",
       "    <tr>\n",
       "      <th>0</th>\n",
       "      <td>UE_THROUGHPUT_DL</td>\n",
       "      <td>N</td>\n",
       "      <td>[NUE_THROUGHPUT_DL_KBIT / DUE_THROUGHPUT_DL]</td>\n",
       "      <td>2018-01-01</td>\n",
       "    </tr>\n",
       "    <tr>\n",
       "      <th>1</th>\n",
       "      <td>UE_THROUGHPUT_UL</td>\n",
       "      <td>N</td>\n",
       "      <td>[NUE_THROUGHPUT_UL_KBIT / DUE_THROUGHPUT_UL]</td>\n",
       "      <td>2018-01-01</td>\n",
       "    </tr>\n",
       "  </tbody>\n",
       "</table>\n",
       "</div>"
      ],
      "text/plain": [
       "          KPI_SHORT VENDOR                             FORMULA_NUM_DENOM  \\\n",
       "0  UE_THROUGHPUT_DL      N  [NUE_THROUGHPUT_DL_KBIT / DUE_THROUGHPUT_DL]   \n",
       "1  UE_THROUGHPUT_UL      N  [NUE_THROUGHPUT_UL_KBIT / DUE_THROUGHPUT_UL]   \n",
       "\n",
       "  DATE_START  \n",
       "0 2018-01-01  \n",
       "1 2018-01-01  "
      ]
     },
     "execution_count": 5,
     "metadata": {},
     "output_type": "execute_result"
    }
   ],
   "source": [
    "formulas"
   ]
  },
  {
   "cell_type": "code",
   "execution_count": 6,
   "id": "located-floor",
   "metadata": {},
   "outputs": [
    {
     "data": {
      "text/html": [
       "<div>\n",
       "<style scoped>\n",
       "    .dataframe tbody tr th:only-of-type {\n",
       "        vertical-align: middle;\n",
       "    }\n",
       "\n",
       "    .dataframe tbody tr th {\n",
       "        vertical-align: top;\n",
       "    }\n",
       "\n",
       "    .dataframe thead th {\n",
       "        text-align: right;\n",
       "    }\n",
       "</style>\n",
       "<table border=\"1\" class=\"dataframe\">\n",
       "  <thead>\n",
       "    <tr style=\"text-align: right;\">\n",
       "      <th></th>\n",
       "      <th>NUM_DEN</th>\n",
       "      <th>VENDOR</th>\n",
       "      <th>FORMULA</th>\n",
       "      <th>DATE_START</th>\n",
       "      <th>AG</th>\n",
       "      <th>STANDART</th>\n",
       "    </tr>\n",
       "  </thead>\n",
       "  <tbody>\n",
       "    <tr>\n",
       "      <th>0</th>\n",
       "      <td>NUE_THROUGHPUT_UL_KBIT</td>\n",
       "      <td>N</td>\n",
       "      <td>(8*((M8012C91+M8012C93+M8012C95+M8012C97+M8012...</td>\n",
       "      <td>2018-01-01</td>\n",
       "      <td>SUM</td>\n",
       "      <td>4G</td>\n",
       "    </tr>\n",
       "    <tr>\n",
       "      <th>1</th>\n",
       "      <td>DUE_THROUGHPUT_UL</td>\n",
       "      <td>N</td>\n",
       "      <td>((M8012C156+M8012C157+M8012C158+M8012C159+M801...</td>\n",
       "      <td>2018-01-01</td>\n",
       "      <td>SUM</td>\n",
       "      <td>4G</td>\n",
       "    </tr>\n",
       "    <tr>\n",
       "      <th>2</th>\n",
       "      <td>NUE_THROUGHPUT_DL_KBIT</td>\n",
       "      <td>N</td>\n",
       "      <td>(8*((M8012C117+M8012C119+M8012C121+M8012C123+M...</td>\n",
       "      <td>2018-01-01</td>\n",
       "      <td>SUM</td>\n",
       "      <td>4G</td>\n",
       "    </tr>\n",
       "    <tr>\n",
       "      <th>3</th>\n",
       "      <td>DUE_THROUGHPUT_DL</td>\n",
       "      <td>N</td>\n",
       "      <td>((M8012C118+M8012C120+M8012C122+M8012C124+M801...</td>\n",
       "      <td>2018-01-01</td>\n",
       "      <td>SUM</td>\n",
       "      <td>4G</td>\n",
       "    </tr>\n",
       "    <tr>\n",
       "      <th>4</th>\n",
       "      <td>DUE_THROUGHPUT_DL</td>\n",
       "      <td>N</td>\n",
       "      <td>(M8012C165+M8012C166+M8012C167+M8012C168+M8012...</td>\n",
       "      <td>2021-03-10</td>\n",
       "      <td>SUM</td>\n",
       "      <td>4G</td>\n",
       "    </tr>\n",
       "  </tbody>\n",
       "</table>\n",
       "</div>"
      ],
      "text/plain": [
       "                  NUM_DEN VENDOR  \\\n",
       "0  NUE_THROUGHPUT_UL_KBIT      N   \n",
       "1       DUE_THROUGHPUT_UL      N   \n",
       "2  NUE_THROUGHPUT_DL_KBIT      N   \n",
       "3       DUE_THROUGHPUT_DL      N   \n",
       "4       DUE_THROUGHPUT_DL      N   \n",
       "\n",
       "                                             FORMULA DATE_START   AG STANDART  \n",
       "0  (8*((M8012C91+M8012C93+M8012C95+M8012C97+M8012... 2018-01-01  SUM       4G  \n",
       "1  ((M8012C156+M8012C157+M8012C158+M8012C159+M801... 2018-01-01  SUM       4G  \n",
       "2  (8*((M8012C117+M8012C119+M8012C121+M8012C123+M... 2018-01-01  SUM       4G  \n",
       "3  ((M8012C118+M8012C120+M8012C122+M8012C124+M801... 2018-01-01  SUM       4G  \n",
       "4  (M8012C165+M8012C166+M8012C167+M8012C168+M8012... 2021-03-10  SUM       4G  "
      ]
     },
     "execution_count": 6,
     "metadata": {},
     "output_type": "execute_result"
    }
   ],
   "source": [
    "num_den"
   ]
  },
  {
   "cell_type": "code",
   "execution_count": 7,
   "id": "automatic-batman",
   "metadata": {},
   "outputs": [],
   "source": [
    "num_den['FIXED_FORMULAS'] = [add_aggr_nvl(i[1]['FORMULA'], i[1]['AG']) for i in num_den.iterrows()]"
   ]
  },
  {
   "cell_type": "code",
   "execution_count": 10,
   "id": "reverse-rabbit",
   "metadata": {},
   "outputs": [
    {
     "data": {
      "text/plain": [
       "('NUE_THROUGHPUT_UL_KBIT',\n",
       " '(8*((M8012C91+M8012C93+M8012C95+M8012C97+M8012C99+M8012C101+M8012C103+M8012C105+M8012C107)/(8*1000)))',\n",
       " '(8*(((((((((SUM(NVL(M8012C91, 0))+SUM(NVL(M8012C93, 0)))+SUM(NVL(M8012C95, 0)))+SUM(NVL(M8012C97, 0)))+SUM(NVL(M8012C99, 0)))+SUM(NVL(M8012C101, 0)))+SUM(NVL(M8012C103, 0)))+SUM(NVL(M8012C105, 0)))+SUM(NVL(M8012C107, 0)))/(8*1000)))')"
      ]
     },
     "execution_count": 10,
     "metadata": {},
     "output_type": "execute_result"
    }
   ],
   "source": [
    "num_den.loc[0, 'NUM_DEN'], num_den.loc[0, 'FORMULA'], add_aggr_nvl(num_den.loc[0, 'FORMULA'], num_den.loc[0, 'AG'])"
   ]
  },
  {
   "cell_type": "code",
   "execution_count": 11,
   "id": "committed-attribute",
   "metadata": {},
   "outputs": [
    {
     "data": {
      "text/html": [
       "<div>\n",
       "<style scoped>\n",
       "    .dataframe tbody tr th:only-of-type {\n",
       "        vertical-align: middle;\n",
       "    }\n",
       "\n",
       "    .dataframe tbody tr th {\n",
       "        vertical-align: top;\n",
       "    }\n",
       "\n",
       "    .dataframe thead th {\n",
       "        text-align: right;\n",
       "    }\n",
       "</style>\n",
       "<table border=\"1\" class=\"dataframe\">\n",
       "  <thead>\n",
       "    <tr style=\"text-align: right;\">\n",
       "      <th></th>\n",
       "      <th>NUM_DEN</th>\n",
       "      <th>VENDOR</th>\n",
       "      <th>FORMULA</th>\n",
       "      <th>DATE_START</th>\n",
       "      <th>AG</th>\n",
       "      <th>STANDART</th>\n",
       "      <th>FIXED_FORMULAS</th>\n",
       "    </tr>\n",
       "  </thead>\n",
       "  <tbody>\n",
       "    <tr>\n",
       "      <th>0</th>\n",
       "      <td>NUE_THROUGHPUT_UL_KBIT</td>\n",
       "      <td>N</td>\n",
       "      <td>(8*((M8012C91+M8012C93+M8012C95+M8012C97+M8012...</td>\n",
       "      <td>2018-01-01</td>\n",
       "      <td>SUM</td>\n",
       "      <td>4G</td>\n",
       "      <td>(8*(((((((((SUM(NVL(M8012C91, 0))+SUM(NVL(M801...</td>\n",
       "    </tr>\n",
       "    <tr>\n",
       "      <th>1</th>\n",
       "      <td>DUE_THROUGHPUT_UL</td>\n",
       "      <td>N</td>\n",
       "      <td>((M8012C156+M8012C157+M8012C158+M8012C159+M801...</td>\n",
       "      <td>2018-01-01</td>\n",
       "      <td>SUM</td>\n",
       "      <td>4G</td>\n",
       "      <td>(((((((((SUM(NVL(M8012C156, 0))+SUM(NVL(M8012C...</td>\n",
       "    </tr>\n",
       "    <tr>\n",
       "      <th>2</th>\n",
       "      <td>NUE_THROUGHPUT_DL_KBIT</td>\n",
       "      <td>N</td>\n",
       "      <td>(8*((M8012C117+M8012C119+M8012C121+M8012C123+M...</td>\n",
       "      <td>2018-01-01</td>\n",
       "      <td>SUM</td>\n",
       "      <td>4G</td>\n",
       "      <td>(8*(((((((((SUM(NVL(M8012C117, 0))+SUM(NVL(M80...</td>\n",
       "    </tr>\n",
       "    <tr>\n",
       "      <th>3</th>\n",
       "      <td>DUE_THROUGHPUT_DL</td>\n",
       "      <td>N</td>\n",
       "      <td>((M8012C118+M8012C120+M8012C122+M8012C124+M801...</td>\n",
       "      <td>2018-01-01</td>\n",
       "      <td>SUM</td>\n",
       "      <td>4G</td>\n",
       "      <td>(((((((((SUM(NVL(M8012C118, 0))+SUM(NVL(M8012C...</td>\n",
       "    </tr>\n",
       "    <tr>\n",
       "      <th>4</th>\n",
       "      <td>DUE_THROUGHPUT_DL</td>\n",
       "      <td>N</td>\n",
       "      <td>(M8012C165+M8012C166+M8012C167+M8012C168+M8012...</td>\n",
       "      <td>2021-03-10</td>\n",
       "      <td>SUM</td>\n",
       "      <td>4G</td>\n",
       "      <td>(((((((((SUM(NVL(M8012C165, 0))+SUM(NVL(M8012C...</td>\n",
       "    </tr>\n",
       "  </tbody>\n",
       "</table>\n",
       "</div>"
      ],
      "text/plain": [
       "                  NUM_DEN VENDOR  \\\n",
       "0  NUE_THROUGHPUT_UL_KBIT      N   \n",
       "1       DUE_THROUGHPUT_UL      N   \n",
       "2  NUE_THROUGHPUT_DL_KBIT      N   \n",
       "3       DUE_THROUGHPUT_DL      N   \n",
       "4       DUE_THROUGHPUT_DL      N   \n",
       "\n",
       "                                             FORMULA DATE_START   AG STANDART  \\\n",
       "0  (8*((M8012C91+M8012C93+M8012C95+M8012C97+M8012... 2018-01-01  SUM       4G   \n",
       "1  ((M8012C156+M8012C157+M8012C158+M8012C159+M801... 2018-01-01  SUM       4G   \n",
       "2  (8*((M8012C117+M8012C119+M8012C121+M8012C123+M... 2018-01-01  SUM       4G   \n",
       "3  ((M8012C118+M8012C120+M8012C122+M8012C124+M801... 2018-01-01  SUM       4G   \n",
       "4  (M8012C165+M8012C166+M8012C167+M8012C168+M8012... 2021-03-10  SUM       4G   \n",
       "\n",
       "                                      FIXED_FORMULAS  \n",
       "0  (8*(((((((((SUM(NVL(M8012C91, 0))+SUM(NVL(M801...  \n",
       "1  (((((((((SUM(NVL(M8012C156, 0))+SUM(NVL(M8012C...  \n",
       "2  (8*(((((((((SUM(NVL(M8012C117, 0))+SUM(NVL(M80...  \n",
       "3  (((((((((SUM(NVL(M8012C118, 0))+SUM(NVL(M8012C...  \n",
       "4  (((((((((SUM(NVL(M8012C165, 0))+SUM(NVL(M8012C...  "
      ]
     },
     "execution_count": 11,
     "metadata": {},
     "output_type": "execute_result"
    }
   ],
   "source": [
    "num_den"
   ]
  },
  {
   "cell_type": "code",
   "execution_count": 12,
   "id": "suffering-family",
   "metadata": {},
   "outputs": [],
   "source": [
    "col1 = 'NUM_DEN' # source of counters in DATA\n",
    "col2 = 'FIXED_FORMULAS' # source of formulas in DATA\n",
    "counters = create_cases(col1, col2, num_den)"
   ]
  },
  {
   "cell_type": "code",
   "execution_count": 13,
   "id": "governing-quality",
   "metadata": {},
   "outputs": [
    {
     "data": {
      "text/plain": [
       "{'NUE_THROUGHPUT_DL_KBIT': '(8*(((((((((SUM(NVL(M8012C117, 0))+SUM(NVL(M8012C119, 0)))+SUM(NVL(M8012C121, 0)))+SUM(NVL(M8012C123, 0)))+SUM(NVL(M8012C125, 0)))+SUM(NVL(M8012C127, 0)))+SUM(NVL(M8012C129, 0)))+SUM(NVL(M8012C131, 0)))+SUM(NVL(M8012C133, 0)))/(8*1000)))',\n",
       " 'DUE_THROUGHPUT_UL': '(((((((((SUM(NVL(M8012C156, 0))+SUM(NVL(M8012C157, 0)))+SUM(NVL(M8012C158, 0)))+SUM(NVL(M8012C159, 0)))+SUM(NVL(M8012C160, 0)))+SUM(NVL(M8012C161, 0)))+SUM(NVL(M8012C162, 0)))+SUM(NVL(M8012C163, 0)))+SUM(NVL(M8012C164, 0)))/1000)',\n",
       " 'NUE_THROUGHPUT_UL_KBIT': '(8*(((((((((SUM(NVL(M8012C91, 0))+SUM(NVL(M8012C93, 0)))+SUM(NVL(M8012C95, 0)))+SUM(NVL(M8012C97, 0)))+SUM(NVL(M8012C99, 0)))+SUM(NVL(M8012C101, 0)))+SUM(NVL(M8012C103, 0)))+SUM(NVL(M8012C105, 0)))+SUM(NVL(M8012C107, 0)))/(8*1000)))',\n",
       " 'DUE_THROUGHPUT_DL': {'case': {'when': [[{'between': {'counter': 'datetime',\n",
       "       'date_start': datetime.date(2021, 3, 10),\n",
       "       'date_end': datetime.date(2021, 3, 12),\n",
       "       'by_date': True}},\n",
       "     '(((((((((SUM(NVL(M8012C165, 0))+SUM(NVL(M8012C166, 0)))+SUM(NVL(M8012C167, 0)))+SUM(NVL(M8012C168, 0)))+SUM(NVL(M8012C169, 0)))+SUM(NVL(M8012C170, 0)))+SUM(NVL(M8012C171, 0)))+SUM(NVL(M8012C172, 0)))+SUM(NVL(M8012C173, 0)))/1000)'],\n",
       "    [{'between': {'counter': 'datetime',\n",
       "       'date_start': datetime.date(2018, 1, 1),\n",
       "       'date_end': datetime.date(2021, 3, 9),\n",
       "       'by_date': True}},\n",
       "     '(((((((((SUM(NVL(M8012C118, 0))+SUM(NVL(M8012C120, 0)))+SUM(NVL(M8012C122, 0)))+SUM(NVL(M8012C124, 0)))+SUM(NVL(M8012C126, 0)))+SUM(NVL(M8012C128, 0)))+SUM(NVL(M8012C130, 0)))+SUM(NVL(M8012C132, 0)))+SUM(NVL(M8012C134, 0)))/1000)']],\n",
       "   'else': 'Null'}}}"
      ]
     },
     "execution_count": 13,
     "metadata": {},
     "output_type": "execute_result"
    }
   ],
   "source": [
    "counters"
   ]
  },
  {
   "cell_type": "code",
   "execution_count": 14,
   "id": "friendly-emperor",
   "metadata": {},
   "outputs": [],
   "source": [
    "num_den['CASE'] = [counters[i] for i in num_den['NUM_DEN']]"
   ]
  },
  {
   "cell_type": "code",
   "execution_count": 15,
   "id": "fixed-niagara",
   "metadata": {},
   "outputs": [
    {
     "data": {
      "text/html": [
       "<div>\n",
       "<style scoped>\n",
       "    .dataframe tbody tr th:only-of-type {\n",
       "        vertical-align: middle;\n",
       "    }\n",
       "\n",
       "    .dataframe tbody tr th {\n",
       "        vertical-align: top;\n",
       "    }\n",
       "\n",
       "    .dataframe thead th {\n",
       "        text-align: right;\n",
       "    }\n",
       "</style>\n",
       "<table border=\"1\" class=\"dataframe\">\n",
       "  <thead>\n",
       "    <tr style=\"text-align: right;\">\n",
       "      <th></th>\n",
       "      <th>NUM_DEN</th>\n",
       "      <th>VENDOR</th>\n",
       "      <th>FORMULA</th>\n",
       "      <th>DATE_START</th>\n",
       "      <th>AG</th>\n",
       "      <th>STANDART</th>\n",
       "      <th>FIXED_FORMULAS</th>\n",
       "      <th>CASE</th>\n",
       "    </tr>\n",
       "  </thead>\n",
       "  <tbody>\n",
       "    <tr>\n",
       "      <th>0</th>\n",
       "      <td>NUE_THROUGHPUT_UL_KBIT</td>\n",
       "      <td>N</td>\n",
       "      <td>(8*((M8012C91+M8012C93+M8012C95+M8012C97+M8012...</td>\n",
       "      <td>2018-01-01</td>\n",
       "      <td>SUM</td>\n",
       "      <td>4G</td>\n",
       "      <td>(8*(((((((((SUM(NVL(M8012C91, 0))+SUM(NVL(M801...</td>\n",
       "      <td>(8*(((((((((SUM(NVL(M8012C91, 0))+SUM(NVL(M801...</td>\n",
       "    </tr>\n",
       "    <tr>\n",
       "      <th>1</th>\n",
       "      <td>DUE_THROUGHPUT_UL</td>\n",
       "      <td>N</td>\n",
       "      <td>((M8012C156+M8012C157+M8012C158+M8012C159+M801...</td>\n",
       "      <td>2018-01-01</td>\n",
       "      <td>SUM</td>\n",
       "      <td>4G</td>\n",
       "      <td>(((((((((SUM(NVL(M8012C156, 0))+SUM(NVL(M8012C...</td>\n",
       "      <td>(((((((((SUM(NVL(M8012C156, 0))+SUM(NVL(M8012C...</td>\n",
       "    </tr>\n",
       "    <tr>\n",
       "      <th>2</th>\n",
       "      <td>NUE_THROUGHPUT_DL_KBIT</td>\n",
       "      <td>N</td>\n",
       "      <td>(8*((M8012C117+M8012C119+M8012C121+M8012C123+M...</td>\n",
       "      <td>2018-01-01</td>\n",
       "      <td>SUM</td>\n",
       "      <td>4G</td>\n",
       "      <td>(8*(((((((((SUM(NVL(M8012C117, 0))+SUM(NVL(M80...</td>\n",
       "      <td>(8*(((((((((SUM(NVL(M8012C117, 0))+SUM(NVL(M80...</td>\n",
       "    </tr>\n",
       "    <tr>\n",
       "      <th>3</th>\n",
       "      <td>DUE_THROUGHPUT_DL</td>\n",
       "      <td>N</td>\n",
       "      <td>((M8012C118+M8012C120+M8012C122+M8012C124+M801...</td>\n",
       "      <td>2018-01-01</td>\n",
       "      <td>SUM</td>\n",
       "      <td>4G</td>\n",
       "      <td>(((((((((SUM(NVL(M8012C118, 0))+SUM(NVL(M8012C...</td>\n",
       "      <td>{'case': {'when': [[{'between': {'counter': 'd...</td>\n",
       "    </tr>\n",
       "    <tr>\n",
       "      <th>4</th>\n",
       "      <td>DUE_THROUGHPUT_DL</td>\n",
       "      <td>N</td>\n",
       "      <td>(M8012C165+M8012C166+M8012C167+M8012C168+M8012...</td>\n",
       "      <td>2021-03-10</td>\n",
       "      <td>SUM</td>\n",
       "      <td>4G</td>\n",
       "      <td>(((((((((SUM(NVL(M8012C165, 0))+SUM(NVL(M8012C...</td>\n",
       "      <td>{'case': {'when': [[{'between': {'counter': 'd...</td>\n",
       "    </tr>\n",
       "  </tbody>\n",
       "</table>\n",
       "</div>"
      ],
      "text/plain": [
       "                  NUM_DEN VENDOR  \\\n",
       "0  NUE_THROUGHPUT_UL_KBIT      N   \n",
       "1       DUE_THROUGHPUT_UL      N   \n",
       "2  NUE_THROUGHPUT_DL_KBIT      N   \n",
       "3       DUE_THROUGHPUT_DL      N   \n",
       "4       DUE_THROUGHPUT_DL      N   \n",
       "\n",
       "                                             FORMULA DATE_START   AG STANDART  \\\n",
       "0  (8*((M8012C91+M8012C93+M8012C95+M8012C97+M8012... 2018-01-01  SUM       4G   \n",
       "1  ((M8012C156+M8012C157+M8012C158+M8012C159+M801... 2018-01-01  SUM       4G   \n",
       "2  (8*((M8012C117+M8012C119+M8012C121+M8012C123+M... 2018-01-01  SUM       4G   \n",
       "3  ((M8012C118+M8012C120+M8012C122+M8012C124+M801... 2018-01-01  SUM       4G   \n",
       "4  (M8012C165+M8012C166+M8012C167+M8012C168+M8012... 2021-03-10  SUM       4G   \n",
       "\n",
       "                                      FIXED_FORMULAS  \\\n",
       "0  (8*(((((((((SUM(NVL(M8012C91, 0))+SUM(NVL(M801...   \n",
       "1  (((((((((SUM(NVL(M8012C156, 0))+SUM(NVL(M8012C...   \n",
       "2  (8*(((((((((SUM(NVL(M8012C117, 0))+SUM(NVL(M80...   \n",
       "3  (((((((((SUM(NVL(M8012C118, 0))+SUM(NVL(M8012C...   \n",
       "4  (((((((((SUM(NVL(M8012C165, 0))+SUM(NVL(M8012C...   \n",
       "\n",
       "                                                CASE  \n",
       "0  (8*(((((((((SUM(NVL(M8012C91, 0))+SUM(NVL(M801...  \n",
       "1  (((((((((SUM(NVL(M8012C156, 0))+SUM(NVL(M8012C...  \n",
       "2  (8*(((((((((SUM(NVL(M8012C117, 0))+SUM(NVL(M80...  \n",
       "3  {'case': {'when': [[{'between': {'counter': 'd...  \n",
       "4  {'case': {'when': [[{'between': {'counter': 'd...  "
      ]
     },
     "execution_count": 15,
     "metadata": {},
     "output_type": "execute_result"
    }
   ],
   "source": [
    "num_den"
   ]
  },
  {
   "cell_type": "code",
   "execution_count": 16,
   "id": "continuous-fence",
   "metadata": {},
   "outputs": [],
   "source": [
    "def find_end_date(data, dates, kpi):\n",
    "    temp = formulas.loc[data['KPI_SHORT']==kpi]\n",
    "    temp = temp['DATE_START']\n",
    "    temp = sorted(temp)\n",
    "    ind = temp.index(dates)\n",
    "    if ind < len(temp)-1:\n",
    "        return(temp[ind+1].date()-dt.timedelta(days=1) )\n",
    "    else:\n",
    "        return(dt.datetime.today().date()) "
   ]
  },
  {
   "cell_type": "code",
   "execution_count": 17,
   "id": "still-sixth",
   "metadata": {},
   "outputs": [
    {
     "data": {
      "text/plain": [
       "('UE_THROUGHPUT_DL',\n",
       " Timestamp('2018-01-01 00:00:00'),\n",
       " datetime.date(2021, 3, 11))"
      ]
     },
     "execution_count": 17,
     "metadata": {},
     "output_type": "execute_result"
    }
   ],
   "source": [
    "formulas.loc[0, 'KPI_SHORT'], formulas.loc[0,'DATE_START'], find_end_date(formulas, formulas.loc[0,'DATE_START'], formulas.loc[0, 'KPI_SHORT'])"
   ]
  },
  {
   "cell_type": "code",
   "execution_count": 18,
   "id": "peripheral-boulder",
   "metadata": {},
   "outputs": [],
   "source": [
    "formulas['END_DATE'] = [find_end_date(formulas, i[1]['DATE_START'], i[1]['KPI_SHORT']) for i in formulas.iterrows()]"
   ]
  },
  {
   "cell_type": "code",
   "execution_count": 19,
   "id": "ancient-courtesy",
   "metadata": {},
   "outputs": [
    {
     "data": {
      "text/html": [
       "<div>\n",
       "<style scoped>\n",
       "    .dataframe tbody tr th:only-of-type {\n",
       "        vertical-align: middle;\n",
       "    }\n",
       "\n",
       "    .dataframe tbody tr th {\n",
       "        vertical-align: top;\n",
       "    }\n",
       "\n",
       "    .dataframe thead th {\n",
       "        text-align: right;\n",
       "    }\n",
       "</style>\n",
       "<table border=\"1\" class=\"dataframe\">\n",
       "  <thead>\n",
       "    <tr style=\"text-align: right;\">\n",
       "      <th></th>\n",
       "      <th>KPI_SHORT</th>\n",
       "      <th>VENDOR</th>\n",
       "      <th>FORMULA_NUM_DENOM</th>\n",
       "      <th>DATE_START</th>\n",
       "      <th>END_DATE</th>\n",
       "    </tr>\n",
       "  </thead>\n",
       "  <tbody>\n",
       "    <tr>\n",
       "      <th>0</th>\n",
       "      <td>UE_THROUGHPUT_DL</td>\n",
       "      <td>N</td>\n",
       "      <td>[NUE_THROUGHPUT_DL_KBIT / DUE_THROUGHPUT_DL]</td>\n",
       "      <td>2018-01-01</td>\n",
       "      <td>2021-03-11</td>\n",
       "    </tr>\n",
       "    <tr>\n",
       "      <th>1</th>\n",
       "      <td>UE_THROUGHPUT_UL</td>\n",
       "      <td>N</td>\n",
       "      <td>[NUE_THROUGHPUT_UL_KBIT / DUE_THROUGHPUT_UL]</td>\n",
       "      <td>2018-01-01</td>\n",
       "      <td>2021-03-11</td>\n",
       "    </tr>\n",
       "  </tbody>\n",
       "</table>\n",
       "</div>"
      ],
      "text/plain": [
       "          KPI_SHORT VENDOR                             FORMULA_NUM_DENOM  \\\n",
       "0  UE_THROUGHPUT_DL      N  [NUE_THROUGHPUT_DL_KBIT / DUE_THROUGHPUT_DL]   \n",
       "1  UE_THROUGHPUT_UL      N  [NUE_THROUGHPUT_UL_KBIT / DUE_THROUGHPUT_UL]   \n",
       "\n",
       "  DATE_START    END_DATE  \n",
       "0 2018-01-01  2021-03-11  \n",
       "1 2018-01-01  2021-03-11  "
      ]
     },
     "execution_count": 19,
     "metadata": {},
     "output_type": "execute_result"
    }
   ],
   "source": [
    "formulas"
   ]
  },
  {
   "cell_type": "code",
   "execution_count": 21,
   "id": "sacred-china",
   "metadata": {},
   "outputs": [
    {
     "data": {
      "text/plain": [
       "('[NUE_THROUGHPUT_DL_KBIT / DUE_THROUGHPUT_DL]',\n",
       " datetime.date(2018, 1, 1),\n",
       " datetime.date(2021, 3, 11),\n",
       " \"ONLINESTAT.F_DEV((8*(((((((((SUM(NVL(M8012C117, 0))+SUM(NVL(M8012C119, 0)))+SUM(NVL(M8012C121, 0)))+SUM(NVL(M8012C123, 0)))+SUM(NVL(M8012C125, 0)))+SUM(NVL(M8012C127, 0)))+SUM(NVL(M8012C129, 0)))+SUM(NVL(M8012C131, 0)))+SUM(NVL(M8012C133, 0)))/(8*1000))), case when datetime between to_date('2021-03-10', 'YYYY-MM-DD') and to_date('2021-03-11', 'YYYY-MM-DD') then (((((((((SUM(NVL(M8012C165, 0))+SUM(NVL(M8012C166, 0)))+SUM(NVL(M8012C167, 0)))+SUM(NVL(M8012C168, 0)))+SUM(NVL(M8012C169, 0)))+SUM(NVL(M8012C170, 0)))+SUM(NVL(M8012C171, 0)))+SUM(NVL(M8012C172, 0)))+SUM(NVL(M8012C173, 0)))/1000) when datetime between to_date('2018-01-01', 'YYYY-MM-DD') and to_date('2021-03-09', 'YYYY-MM-DD') then (((((((((SUM(NVL(M8012C118, 0))+SUM(NVL(M8012C120, 0)))+SUM(NVL(M8012C122, 0)))+SUM(NVL(M8012C124, 0)))+SUM(NVL(M8012C126, 0)))+SUM(NVL(M8012C128, 0)))+SUM(NVL(M8012C130, 0)))+SUM(NVL(M8012C132, 0)))+SUM(NVL(M8012C134, 0)))/1000)  else null end)\")"
      ]
     },
     "execution_count": 21,
     "metadata": {},
     "output_type": "execute_result"
    }
   ],
   "source": [
    "formulas.loc[0,'FORMULA_NUM_DENOM'], formulas.loc[0,'DATE_START'].date(), formulas.loc[0,'END_DATE'], check_tree_for_replace_dividers(formulas.loc[0,'FORMULA_NUM_DENOM'], formulas.loc[0,'DATE_START'], formulas.loc[0,'END_DATE'], counters)"
   ]
  },
  {
   "cell_type": "code",
   "execution_count": 22,
   "id": "dominant-paintball",
   "metadata": {},
   "outputs": [],
   "source": [
    "formulas['FIXED_FORMULAS'] = [check_tree_for_replace_dividers(i[1]['FORMULA_NUM_DENOM'],\n",
    "                                                                i[1]['DATE_START'], i[1]['END_DATE'],\n",
    "                                                                counters) for i in formulas.iterrows()]"
   ]
  },
  {
   "cell_type": "code",
   "execution_count": 23,
   "id": "agricultural-liability",
   "metadata": {},
   "outputs": [
    {
     "data": {
      "text/html": [
       "<div>\n",
       "<style scoped>\n",
       "    .dataframe tbody tr th:only-of-type {\n",
       "        vertical-align: middle;\n",
       "    }\n",
       "\n",
       "    .dataframe tbody tr th {\n",
       "        vertical-align: top;\n",
       "    }\n",
       "\n",
       "    .dataframe thead th {\n",
       "        text-align: right;\n",
       "    }\n",
       "</style>\n",
       "<table border=\"1\" class=\"dataframe\">\n",
       "  <thead>\n",
       "    <tr style=\"text-align: right;\">\n",
       "      <th></th>\n",
       "      <th>KPI_SHORT</th>\n",
       "      <th>VENDOR</th>\n",
       "      <th>FORMULA_NUM_DENOM</th>\n",
       "      <th>DATE_START</th>\n",
       "      <th>END_DATE</th>\n",
       "      <th>FIXED_FORMULAS</th>\n",
       "    </tr>\n",
       "  </thead>\n",
       "  <tbody>\n",
       "    <tr>\n",
       "      <th>0</th>\n",
       "      <td>UE_THROUGHPUT_DL</td>\n",
       "      <td>N</td>\n",
       "      <td>[NUE_THROUGHPUT_DL_KBIT / DUE_THROUGHPUT_DL]</td>\n",
       "      <td>2018-01-01</td>\n",
       "      <td>2021-03-11</td>\n",
       "      <td>ONLINESTAT.F_DEV((8*(((((((((SUM(NVL(M8012C117...</td>\n",
       "    </tr>\n",
       "    <tr>\n",
       "      <th>1</th>\n",
       "      <td>UE_THROUGHPUT_UL</td>\n",
       "      <td>N</td>\n",
       "      <td>[NUE_THROUGHPUT_UL_KBIT / DUE_THROUGHPUT_UL]</td>\n",
       "      <td>2018-01-01</td>\n",
       "      <td>2021-03-11</td>\n",
       "      <td>ONLINESTAT.F_DEV((8*(((((((((SUM(NVL(M8012C91,...</td>\n",
       "    </tr>\n",
       "  </tbody>\n",
       "</table>\n",
       "</div>"
      ],
      "text/plain": [
       "          KPI_SHORT VENDOR                             FORMULA_NUM_DENOM  \\\n",
       "0  UE_THROUGHPUT_DL      N  [NUE_THROUGHPUT_DL_KBIT / DUE_THROUGHPUT_DL]   \n",
       "1  UE_THROUGHPUT_UL      N  [NUE_THROUGHPUT_UL_KBIT / DUE_THROUGHPUT_UL]   \n",
       "\n",
       "  DATE_START    END_DATE                                     FIXED_FORMULAS  \n",
       "0 2018-01-01  2021-03-11  ONLINESTAT.F_DEV((8*(((((((((SUM(NVL(M8012C117...  \n",
       "1 2018-01-01  2021-03-11  ONLINESTAT.F_DEV((8*(((((((((SUM(NVL(M8012C91,...  "
      ]
     },
     "execution_count": 23,
     "metadata": {},
     "output_type": "execute_result"
    }
   ],
   "source": [
    "formulas"
   ]
  }
 ],
 "metadata": {
  "kernelspec": {
   "display_name": "Python 3",
   "language": "python",
   "name": "python3"
  },
  "language_info": {
   "codemirror_mode": {
    "name": "ipython",
    "version": 3
   },
   "file_extension": ".py",
   "mimetype": "text/x-python",
   "name": "python",
   "nbconvert_exporter": "python",
   "pygments_lexer": "ipython3",
   "version": "3.7.8"
  }
 },
 "nbformat": 4,
 "nbformat_minor": 5
}
