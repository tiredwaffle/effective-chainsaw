{
 "cells": [
  {
   "cell_type": "markdown",
   "id": "fixed-posting",
   "metadata": {},
   "source": [
    "As you about to start the road of terror by debuging this code here is the word of wisdom <b>\"Go and read the README first!\"</b>\n",
    "<br>\n",
    "There are explanations and examples you need to understand this deep enough to debug."
   ]
  },
  {
   "cell_type": "code",
   "execution_count": 13,
   "id": "eleven-witness",
   "metadata": {},
   "outputs": [],
   "source": [
    "# import all libs\n",
    "import numpy as np\n",
    "import pandas as pd\n",
    "import datetime as dt"
   ]
  },
  {
   "cell_type": "markdown",
   "id": "destroyed-density",
   "metadata": {},
   "source": [
    "## Getting data"
   ]
  },
  {
   "cell_type": "code",
   "execution_count": 14,
   "id": "unlikely-briefs",
   "metadata": {},
   "outputs": [],
   "source": [
    "# connect to DB\n",
    "from helpers.util import connect\n",
    "con, cur = connect('vertica')"
   ]
  },
  {
   "cell_type": "markdown",
   "id": "polar-baseline",
   "metadata": {},
   "source": [
    "By this moment we added only few formulas into the base, so for this example I took UE_THROUGHPUT_DL/UL"
   ]
  },
  {
   "cell_type": "code",
   "execution_count": 19,
   "id": "portuguese-forty",
   "metadata": {},
   "outputs": [],
   "source": [
    "formulas = pd.read_sql('''select KPI_SHORT, VENDOR, FORMULA_NUM_DENOM, DATE_START \n",
    "from VERTICA_STAT.FORMULA where KPI_SHORT in ('UE_THROUGHPUT_DL', 'UE_THROUGHPUT_UL')\n",
    "''', con, parse_dates=['DATE_START']) # 1st lvl formulas\n",
    "\n",
    "num_den = pd.read_sql('''select upper(NUM_DEN) NUM_DEN, VENDOR, FORMULA, DATE_START, AG, STANDART \n",
    "from VERTICA_STAT.NUM_DENOM\n",
    "where NUM_DEN in ('NUE_THROUGHPUT_DL_KBIT', 'NUE_THROUGHPUT_UL_KBIT', 'dUE_Throughput_DL', 'dUE_Throughput_UL')\n",
    "and vendor = 'N' ''', con, parse_dates=['DATE_START'])  # 2nd lvl formulas"
   ]
  },
  {
   "cell_type": "markdown",
   "id": "motivated-wyoming",
   "metadata": {},
   "source": [
    "Initial data looks as follows"
   ]
  },
  {
   "cell_type": "code",
   "execution_count": 20,
   "id": "coral-freedom",
   "metadata": {},
   "outputs": [
    {
     "data": {
      "text/html": [
       "<div>\n",
       "<style scoped>\n",
       "    .dataframe tbody tr th:only-of-type {\n",
       "        vertical-align: middle;\n",
       "    }\n",
       "\n",
       "    .dataframe tbody tr th {\n",
       "        vertical-align: top;\n",
       "    }\n",
       "\n",
       "    .dataframe thead th {\n",
       "        text-align: right;\n",
       "    }\n",
       "</style>\n",
       "<table border=\"1\" class=\"dataframe\">\n",
       "  <thead>\n",
       "    <tr style=\"text-align: right;\">\n",
       "      <th></th>\n",
       "      <th>KPI_SHORT</th>\n",
       "      <th>VENDOR</th>\n",
       "      <th>FORMULA_NUM_DENOM</th>\n",
       "      <th>DATE_START</th>\n",
       "    </tr>\n",
       "  </thead>\n",
       "  <tbody>\n",
       "    <tr>\n",
       "      <th>0</th>\n",
       "      <td>UE_THROUGHPUT_DL</td>\n",
       "      <td>N</td>\n",
       "      <td>[NUE_THROUGHPUT_DL_KBIT / DUE_THROUGHPUT_DL]</td>\n",
       "      <td>2018-01-01</td>\n",
       "    </tr>\n",
       "    <tr>\n",
       "      <th>1</th>\n",
       "      <td>UE_THROUGHPUT_UL</td>\n",
       "      <td>N</td>\n",
       "      <td>[NUE_THROUGHPUT_UL_KBIT / DUE_THROUGHPUT_UL]</td>\n",
       "      <td>2018-01-01</td>\n",
       "    </tr>\n",
       "  </tbody>\n",
       "</table>\n",
       "</div>"
      ],
      "text/plain": [
       "          KPI_SHORT VENDOR                             FORMULA_NUM_DENOM  \\\n",
       "0  UE_THROUGHPUT_DL      N  [NUE_THROUGHPUT_DL_KBIT / DUE_THROUGHPUT_DL]   \n",
       "1  UE_THROUGHPUT_UL      N  [NUE_THROUGHPUT_UL_KBIT / DUE_THROUGHPUT_UL]   \n",
       "\n",
       "  DATE_START  \n",
       "0 2018-01-01  \n",
       "1 2018-01-01  "
      ]
     },
     "execution_count": 20,
     "metadata": {},
     "output_type": "execute_result"
    }
   ],
   "source": [
    "formulas"
   ]
  },
  {
   "cell_type": "code",
   "execution_count": 21,
   "id": "assisted-trinidad",
   "metadata": {},
   "outputs": [
    {
     "data": {
      "text/html": [
       "<div>\n",
       "<style scoped>\n",
       "    .dataframe tbody tr th:only-of-type {\n",
       "        vertical-align: middle;\n",
       "    }\n",
       "\n",
       "    .dataframe tbody tr th {\n",
       "        vertical-align: top;\n",
       "    }\n",
       "\n",
       "    .dataframe thead th {\n",
       "        text-align: right;\n",
       "    }\n",
       "</style>\n",
       "<table border=\"1\" class=\"dataframe\">\n",
       "  <thead>\n",
       "    <tr style=\"text-align: right;\">\n",
       "      <th></th>\n",
       "      <th>NUM_DEN</th>\n",
       "      <th>VENDOR</th>\n",
       "      <th>FORMULA</th>\n",
       "      <th>DATE_START</th>\n",
       "      <th>AG</th>\n",
       "      <th>STANDART</th>\n",
       "    </tr>\n",
       "  </thead>\n",
       "  <tbody>\n",
       "    <tr>\n",
       "      <th>0</th>\n",
       "      <td>NUE_THROUGHPUT_UL_KBIT</td>\n",
       "      <td>N</td>\n",
       "      <td>(8*((M8012C91+M8012C93+M8012C95+M8012C97+M8012...</td>\n",
       "      <td>2018-01-01</td>\n",
       "      <td>SUM</td>\n",
       "      <td>4G</td>\n",
       "    </tr>\n",
       "    <tr>\n",
       "      <th>1</th>\n",
       "      <td>DUE_THROUGHPUT_UL</td>\n",
       "      <td>N</td>\n",
       "      <td>((M8012C156+M8012C157+M8012C158+M8012C159+M801...</td>\n",
       "      <td>2018-01-01</td>\n",
       "      <td>SUM</td>\n",
       "      <td>4G</td>\n",
       "    </tr>\n",
       "    <tr>\n",
       "      <th>2</th>\n",
       "      <td>NUE_THROUGHPUT_DL_KBIT</td>\n",
       "      <td>N</td>\n",
       "      <td>(8*((M8012C117+M8012C119+M8012C121+M8012C123+M...</td>\n",
       "      <td>2018-01-01</td>\n",
       "      <td>SUM</td>\n",
       "      <td>4G</td>\n",
       "    </tr>\n",
       "    <tr>\n",
       "      <th>3</th>\n",
       "      <td>DUE_THROUGHPUT_DL</td>\n",
       "      <td>N</td>\n",
       "      <td>((M8012C118+M8012C120+M8012C122+M8012C124+M801...</td>\n",
       "      <td>2018-01-01</td>\n",
       "      <td>SUM</td>\n",
       "      <td>4G</td>\n",
       "    </tr>\n",
       "    <tr>\n",
       "      <th>4</th>\n",
       "      <td>DUE_THROUGHPUT_DL</td>\n",
       "      <td>N</td>\n",
       "      <td>(M8012C165+M8012C166+M8012C167+M8012C168+M8012...</td>\n",
       "      <td>2021-03-10</td>\n",
       "      <td>SUM</td>\n",
       "      <td>4G</td>\n",
       "    </tr>\n",
       "  </tbody>\n",
       "</table>\n",
       "</div>"
      ],
      "text/plain": [
       "                  NUM_DEN VENDOR  \\\n",
       "0  NUE_THROUGHPUT_UL_KBIT      N   \n",
       "1       DUE_THROUGHPUT_UL      N   \n",
       "2  NUE_THROUGHPUT_DL_KBIT      N   \n",
       "3       DUE_THROUGHPUT_DL      N   \n",
       "4       DUE_THROUGHPUT_DL      N   \n",
       "\n",
       "                                             FORMULA DATE_START   AG STANDART  \n",
       "0  (8*((M8012C91+M8012C93+M8012C95+M8012C97+M8012... 2018-01-01  SUM       4G  \n",
       "1  ((M8012C156+M8012C157+M8012C158+M8012C159+M801... 2018-01-01  SUM       4G  \n",
       "2  (8*((M8012C117+M8012C119+M8012C121+M8012C123+M... 2018-01-01  SUM       4G  \n",
       "3  ((M8012C118+M8012C120+M8012C122+M8012C124+M801... 2018-01-01  SUM       4G  \n",
       "4  (M8012C165+M8012C166+M8012C167+M8012C168+M8012... 2021-03-10  SUM       4G  "
      ]
     },
     "execution_count": 21,
     "metadata": {},
     "output_type": "execute_result"
    }
   ],
   "source": [
    "num_den"
   ]
  },
  {
   "cell_type": "markdown",
   "id": "inappropriate-arizona",
   "metadata": {},
   "source": [
    "## The magic"
   ]
  },
  {
   "cell_type": "markdown",
   "id": "acceptable-builder",
   "metadata": {},
   "source": [
    "The whole bunch of utilities I wrote for making this more automatised and places into lib, to make this file less messy. \n",
    "<br>\n",
    "These are explained inside the library."
   ]
  },
  {
   "cell_type": "code",
   "execution_count": 6,
   "id": "dedicated-cricket",
   "metadata": {},
   "outputs": [],
   "source": [
    "from helpers.vertica import create_cases, add_aggr_nvl, check_tree_for_instance, check_tree_for_replace_dividers"
   ]
  },
  {
   "cell_type": "markdown",
   "id": "cooked-commissioner",
   "metadata": {},
   "source": [
    "We start by going though all of the second level formulas and adding SUM(NVL(...,0)) to every counter inside\n",
    "<br>\n",
    "Then we create cases for evolution of every formula (case when time between a and b then c when ...), so we have all the changes of the formula thoughout its life. \n",
    "I save this cases into dict (not to well formated string) because later we are going to need to check the dates of existence of every separate version of the formula and it's rather difficult with string (before you ask, regex is not an option)."
   ]
  },
  {
   "cell_type": "code",
   "execution_count": 22,
   "id": "frequent-above",
   "metadata": {},
   "outputs": [],
   "source": [
    "num_den['FIXED_FORMULAS'] = [add_aggr_nvl(i[1]['FORMULA'], i[1]['AG']) for i in num_den.iterrows()]\n",
    "col1 = 'NUM_DEN' # source of counters in DATA\n",
    "col2 = 'FIXED_FORMULAS' # source of formulas in DATA\n",
    "counters = create_cases(col1, col2, num_den)\n",
    "num_den['CASE'] = [counters[i] for i in num_den['NUM_DEN']]"
   ]
  },
  {
   "cell_type": "markdown",
   "id": "grand-thought",
   "metadata": {},
   "source": [
    "<p>For this example the formulas looks like follows:</p>\n",
    "<ul>\n",
    "<li>   DUE_THROUGHPUT_UL, NUE_THROUGHPUT_UL_KBIT and NUE_THROUGHPUT_DL_KBIT where not changing -> exists in only one version.</li>\n",
    "<li>   DUE_THROUGHPUT_DL changed couple of days ago.</li>\n",
    "</ul>"
   ]
  },
  {
   "cell_type": "code",
   "execution_count": 8,
   "id": "considered-easter",
   "metadata": {},
   "outputs": [
    {
     "data": {
      "text/plain": [
       "{'DUE_THROUGHPUT_UL': '((((((((((SUM(nvl(M8012C156,0))+SUM(nvl(M8012C157,0)))+SUM(nvl(M8012C158,0)))+SUM(nvl(M8012C159,0)))+SUM(nvl(M8012C160,0)))+SUM(nvl(M8012C161,0)))+SUM(nvl(M8012C162,0)))+SUM(nvl(M8012C163,0)))+SUM(nvl(M8012C164,0)))/1000)',\n",
       " 'NUE_THROUGHPUT_UL_KBIT': '(8*((((((((((SUM(nvl(M8012C91,0))+SUM(nvl(M8012C93,0)))+SUM(nvl(M8012C95,0)))+SUM(nvl(M8012C97,0)))+SUM(nvl(M8012C99,0)))+SUM(nvl(M8012C101,0)))+SUM(nvl(M8012C103,0)))+SUM(nvl(M8012C105,0)))+SUM(nvl(M8012C107,0)))/(8*1000)))',\n",
       " 'NUE_THROUGHPUT_DL_KBIT': '(8*((((((((((SUM(nvl(M8012C117,0))+SUM(nvl(M8012C119,0)))+SUM(nvl(M8012C121,0)))+SUM(nvl(M8012C123,0)))+SUM(nvl(M8012C125,0)))+SUM(nvl(M8012C127,0)))+SUM(nvl(M8012C129,0)))+SUM(nvl(M8012C131,0)))+SUM(nvl(M8012C133,0)))/(8*1000)))',\n",
       " 'DUE_THROUGHPUT_DL': {'case': {'when': [[{'between': {'counter': 'datetime',\n",
       "       'date_start': datetime.date(2021, 3, 10),\n",
       "       'date_end': datetime.date(2021, 3, 11),\n",
       "       'by_date': True}},\n",
       "     '((((((((((SUM(nvl(M8012C165,0))+SUM(nvl(M8012C166,0)))+SUM(nvl(M8012C167,0)))+SUM(nvl(M8012C168,0)))+SUM(nvl(M8012C169,0)))+SUM(nvl(M8012C170,0)))+SUM(nvl(M8012C171,0)))+SUM(nvl(M8012C172,0)))+SUM(nvl(M8012C173,0)))/1000)'],\n",
       "    [{'between': {'counter': 'datetime',\n",
       "       'date_start': datetime.date(2018, 1, 1),\n",
       "       'date_end': datetime.date(2021, 3, 9),\n",
       "       'by_date': True}},\n",
       "     '((((((((((SUM(nvl(M8012C118,0))+SUM(nvl(M8012C120,0)))+SUM(nvl(M8012C122,0)))+SUM(nvl(M8012C124,0)))+SUM(nvl(M8012C126,0)))+SUM(nvl(M8012C128,0)))+SUM(nvl(M8012C130,0)))+SUM(nvl(M8012C132,0)))+SUM(nvl(M8012C134,0)))/1000)']],\n",
       "   'else': 'Null'}}}"
      ]
     },
     "execution_count": 8,
     "metadata": {},
     "output_type": "execute_result"
    }
   ],
   "source": [
    "counters"
   ]
  },
  {
   "cell_type": "markdown",
   "id": "public-calvin",
   "metadata": {},
   "source": [
    "So by this moment we created rules for the second level formulas. Looks easy, huh?"
   ]
  },
  {
   "cell_type": "code",
   "execution_count": 9,
   "id": "declared-nudist",
   "metadata": {},
   "outputs": [],
   "source": [
    "def find_end_date(data, dates, kpi):\n",
    "    temp = formulas.loc[data['KPI_SHORT']==kpi]\n",
    "    temp = temp['DATE_START']\n",
    "    temp = sorted(temp)\n",
    "    ind = temp.index(dates)\n",
    "    if ind < len(temp)-1:\n",
    "        return(temp[ind+1].date()-dt.timedelta(days=1) )\n",
    "    else:\n",
    "        return(dt.datetime.today().date()) "
   ]
  },
  {
   "cell_type": "markdown",
   "id": "temporal-vinyl",
   "metadata": {},
   "source": [
    "Here we are adding the end dates for every formula version."
   ]
  },
  {
   "cell_type": "code",
   "execution_count": 23,
   "id": "southeast-gates",
   "metadata": {},
   "outputs": [],
   "source": [
    "formulas['END_DATE'] = [find_end_date(formulas, i[1]['DATE_START'], i[1]['KPI_SHORT']) for i in formulas.iterrows()]"
   ]
  },
  {
   "cell_type": "markdown",
   "id": "offensive-interaction",
   "metadata": {},
   "source": [
    "And here we go to the first level formulas and change first level counters into our cases structure."
   ]
  },
  {
   "cell_type": "code",
   "execution_count": 24,
   "id": "inappropriate-classics",
   "metadata": {},
   "outputs": [],
   "source": [
    "formulas['FIXED_FORMULAS'] = [check_tree_for_replace_dividers(i[1]['FORMULA_NUM_DENOM'],\n",
    "                                                                i[1]['DATE_START'], i[1]['END_DATE'],\n",
    "                                                                counters) for i in formulas.iterrows()]"
   ]
  },
  {
   "cell_type": "code",
   "execution_count": 25,
   "id": "bacterial-decade",
   "metadata": {},
   "outputs": [
    {
     "data": {
      "text/html": [
       "<div>\n",
       "<style scoped>\n",
       "    .dataframe tbody tr th:only-of-type {\n",
       "        vertical-align: middle;\n",
       "    }\n",
       "\n",
       "    .dataframe tbody tr th {\n",
       "        vertical-align: top;\n",
       "    }\n",
       "\n",
       "    .dataframe thead th {\n",
       "        text-align: right;\n",
       "    }\n",
       "</style>\n",
       "<table border=\"1\" class=\"dataframe\">\n",
       "  <thead>\n",
       "    <tr style=\"text-align: right;\">\n",
       "      <th></th>\n",
       "      <th>KPI_SHORT</th>\n",
       "      <th>VENDOR</th>\n",
       "      <th>FORMULA_NUM_DENOM</th>\n",
       "      <th>DATE_START</th>\n",
       "      <th>END_DATE</th>\n",
       "      <th>FIXED_FORMULAS</th>\n",
       "    </tr>\n",
       "  </thead>\n",
       "  <tbody>\n",
       "    <tr>\n",
       "      <th>0</th>\n",
       "      <td>UE_THROUGHPUT_DL</td>\n",
       "      <td>N</td>\n",
       "      <td>[NUE_THROUGHPUT_DL_KBIT / DUE_THROUGHPUT_DL]</td>\n",
       "      <td>2018-01-01</td>\n",
       "      <td>2021-03-11</td>\n",
       "      <td>ONLINESTAT.F_DEV((8*((((((((((SUM(nvl(M8012C11...</td>\n",
       "    </tr>\n",
       "    <tr>\n",
       "      <th>1</th>\n",
       "      <td>UE_THROUGHPUT_UL</td>\n",
       "      <td>N</td>\n",
       "      <td>[NUE_THROUGHPUT_UL_KBIT / DUE_THROUGHPUT_UL]</td>\n",
       "      <td>2018-01-01</td>\n",
       "      <td>2021-03-11</td>\n",
       "      <td>ONLINESTAT.F_DEV((8*((((((((((SUM(nvl(M8012C91...</td>\n",
       "    </tr>\n",
       "  </tbody>\n",
       "</table>\n",
       "</div>"
      ],
      "text/plain": [
       "          KPI_SHORT VENDOR                             FORMULA_NUM_DENOM  \\\n",
       "0  UE_THROUGHPUT_DL      N  [NUE_THROUGHPUT_DL_KBIT / DUE_THROUGHPUT_DL]   \n",
       "1  UE_THROUGHPUT_UL      N  [NUE_THROUGHPUT_UL_KBIT / DUE_THROUGHPUT_UL]   \n",
       "\n",
       "  DATE_START    END_DATE                                     FIXED_FORMULAS  \n",
       "0 2018-01-01  2021-03-11  ONLINESTAT.F_DEV((8*((((((((((SUM(nvl(M8012C11...  \n",
       "1 2018-01-01  2021-03-11  ONLINESTAT.F_DEV((8*((((((((((SUM(nvl(M8012C91...  "
      ]
     },
     "execution_count": 25,
     "metadata": {},
     "output_type": "execute_result"
    }
   ],
   "source": [
    "formulas.head()"
   ]
  },
  {
   "cell_type": "code",
   "execution_count": 26,
   "id": "standing-aerospace",
   "metadata": {},
   "outputs": [
    {
     "data": {
      "text/plain": [
       "('UE_THROUGHPUT_DL',\n",
       " \"ONLINESTAT.F_DEV((8*((((((((((SUM(nvl(M8012C117,0))+SUM(nvl(M8012C119,0)))+SUM(nvl(M8012C121,0)))+SUM(nvl(M8012C123,0)))+SUM(nvl(M8012C125,0)))+SUM(nvl(M8012C127,0)))+SUM(nvl(M8012C129,0)))+SUM(nvl(M8012C131,0)))+SUM(nvl(M8012C133,0)))/(8*1000))), case when datetime between to_date('2021-03-10', 'YYYY-MM-DD') and to_date('2021-03-11', 'YYYY-MM-DD') then ((((((((((SUM(nvl(M8012C165,0))+SUM(nvl(M8012C166,0)))+SUM(nvl(M8012C167,0)))+SUM(nvl(M8012C168,0)))+SUM(nvl(M8012C169,0)))+SUM(nvl(M8012C170,0)))+SUM(nvl(M8012C171,0)))+SUM(nvl(M8012C172,0)))+SUM(nvl(M8012C173,0)))/1000) when datetime between to_date('2018-01-01', 'YYYY-MM-DD') and to_date('2021-03-09', 'YYYY-MM-DD') then ((((((((((SUM(nvl(M8012C118,0))+SUM(nvl(M8012C120,0)))+SUM(nvl(M8012C122,0)))+SUM(nvl(M8012C124,0)))+SUM(nvl(M8012C126,0)))+SUM(nvl(M8012C128,0)))+SUM(nvl(M8012C130,0)))+SUM(nvl(M8012C132,0)))+SUM(nvl(M8012C134,0)))/1000)  else null end)\")"
      ]
     },
     "execution_count": 26,
     "metadata": {},
     "output_type": "execute_result"
    }
   ],
   "source": [
    "formulas.loc[0, 'KPI_SHORT'], formulas.loc[0, 'FIXED_FORMULAS']"
   ]
  },
  {
   "cell_type": "markdown",
   "id": "moderate-economy",
   "metadata": {},
   "source": [
    "All in all we got this. Doesn't it look pretty? It definitely does not. But it's the only adequate way of doing this.\n",
    "Soon this beautiful creature will go on production and every day generate each and every formula for everyone.\n",
    "<br>\n",
    "Later, if needed, we can call create_cases again and create one big request for entire table."
   ]
  }
 ],
 "metadata": {
  "kernelspec": {
   "display_name": "Python 3",
   "language": "python",
   "name": "python3"
  },
  "language_info": {
   "codemirror_mode": {
    "name": "ipython",
    "version": 3
   },
   "file_extension": ".py",
   "mimetype": "text/x-python",
   "name": "python",
   "nbconvert_exporter": "python",
   "pygments_lexer": "ipython3",
   "version": "3.7.8"
  }
 },
 "nbformat": 4,
 "nbformat_minor": 5
}
